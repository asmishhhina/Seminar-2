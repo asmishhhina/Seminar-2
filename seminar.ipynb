
print ("Hello!"); print("Hello",end="\n");print ("Hello")
Hello!
Hello
Hello
In [2]:

print ("Hello!"); print("Hello");print ("Hello"); sep=""
Hello!
Hello
Hello
In [3]:

print("{:.<20s}{:.>10.3f}")
{:.<20s}{:.>10.3f}
In [4]:

x_1="Помидор"; x=10
In [7]:

print("{:.<20s}{:.>10.2f}".format(x_1,x))
Помидор..................10.00
